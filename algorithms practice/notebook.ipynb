{
 "cells": [
  {
   "cell_type": "code",
   "execution_count": 3,
   "metadata": {},
   "outputs": [
    {
     "name": "stdout",
     "output_type": "stream",
     "text": [
      "a\n"
     ]
    }
   ],
   "source": [
    "def binary_search(input_array, value):\n",
    "    \"\"\"Your code goes here.\"\"\"\n",
    "    final_array = input_array\n",
    "    while len(input_array) >= 1:\n",
    "        \n",
    "\t    size_of_list = len(input_array)\n",
    "\t    \n",
    "\t    if (size_of_list % 2) != 0:\n",
    "\t    \tmiddle_element = input_array[size_of_list/2]\n",
    "\t    else:\n",
    "\t    \tmiddle_element = input_array[(size_of_list/2)-1]\n",
    "\t    \n",
    "\t    if value == middle_element:\n",
    "\t    \treturn final_array.index(middle_element)\n",
    "\t    elif value < middle_element:\n",
    "\t    \tinput_array = input_array[:(input_array.index(middle_element))]\n",
    "\t    elif value > middle_element:\n",
    "\t       input_array = input_array[(input_array.index(middle_element)+1):]\n",
    "\n",
    "    return -1\n",
    "            "
   ]
  },
  {
   "cell_type": "code",
   "execution_count": 1,
   "metadata": {},
   "outputs": [
    {
     "name": "stdout",
     "output_type": "stream",
     "text": [
      "Sorted array: [11, 12, 22, 25, 34, 64, 90]\n"
     ]
    }
   ],
   "source": [
    "def quick_sort(arr):\n",
    "    if len(arr) <= 1:\n",
    "        return arr\n",
    "    \n",
    "    pivot = arr[len(arr) // 2]\n",
    "    left = [x for x in arr if x < pivot]\n",
    "    middle = [x for x in arr if x == pivot]\n",
    "    right = [x for x in arr if x > pivot]\n",
    "    \n",
    "    return quick_sort(left) + middle + quick_sort(right)\n",
    "\n",
    "# Example usage\n",
    "arr = [64, 34, 25, 12, 22, 11, 90]\n",
    "sorted_arr = quick_sort(arr)\n",
    "print(\"Sorted array:\", sorted_arr)\n"
   ]
  },
  {
   "cell_type": "code",
   "execution_count": null,
   "metadata": {},
   "outputs": [],
   "source": []
  }
 ],
 "metadata": {
  "kernelspec": {
   "display_name": "Python 3",
   "language": "python",
   "name": "python3"
  },
  "language_info": {
   "codemirror_mode": {
    "name": "ipython",
    "version": 3
   },
   "file_extension": ".py",
   "mimetype": "text/x-python",
   "name": "python",
   "nbconvert_exporter": "python",
   "pygments_lexer": "ipython3",
   "version": "3.10.11"
  },
  "orig_nbformat": 4
 },
 "nbformat": 4,
 "nbformat_minor": 2
}
